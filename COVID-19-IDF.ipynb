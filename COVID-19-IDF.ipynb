{
 "cells": [
  {
   "cell_type": "markdown",
   "metadata": {},
   "source": [
    "# COVID en ile de France"
   ]
  },
  {
   "cell_type": "raw",
   "metadata": {},
   "source": [
    "In this project we will work to analyse and make statistics obout the evolution of the COVID-19 in France particularly in the most criticale region of the country which is Ile de France ,we will try to identify the keys information that we need to do analysies and conclude with some explanations relative to each problematique about the circulation and the way that the virus spreads and cantinues to circulate in this region.\n",
    "\n",
    "The region of IDF include 5 departements plus the capital Paris.\n",
    "until today we ca identify 3 phase that we spend with the virus\n",
    "    1. The phase of the descovering (Begining)\n",
    "    2. The containment phase (confinement)\n",
    "    3. The after containment phase (L'apès confinement)\n",
    "considering what it was writing bellow the studie will based on the three following facts \n",
    "    1. studie Global (in all IDF)\n",
    "    2. Analyse period by period\n",
    "    3. Analyse of the virus by departement separately."
   ]
  }
 ],
 "metadata": {
  "kernelspec": {
   "display_name": "Python 3",
   "language": "python",
   "name": "python3"
  },
  "language_info": {
   "codemirror_mode": {
    "name": "ipython",
    "version": 3
   },
   "file_extension": ".py",
   "mimetype": "text/x-python",
   "name": "python",
   "nbconvert_exporter": "python",
   "pygments_lexer": "ipython3",
   "version": "3.8.3"
  }
 },
 "nbformat": 4,
 "nbformat_minor": 4
}
